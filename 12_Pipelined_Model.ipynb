{
 "cells": [
  {
   "cell_type": "markdown",
   "id": "b467c16e",
   "metadata": {},
   "source": [
    "# Flight Delay Prediction\n",
    "## Pipe Lining\n",
    "\n",
    "- Preprocess Dataset with rows for ArrDelayMinutes and ArrDel15\n",
    "- Split for training and classification\n",
    "- Classify whether the flight will be delayed or not\n",
    "- Pipeline for regression to determine by how long it will be delayed"
   ]
  },
  {
   "cell_type": "markdown",
   "id": "1f4df3ff",
   "metadata": {},
   "source": [
    "## Environment Setup"
   ]
  },
  {
   "cell_type": "code",
   "execution_count": 1,
   "id": "2f1b02d9",
   "metadata": {},
   "outputs": [],
   "source": [
    "# Suppress warnings\n",
    "import warnings\n",
    "warnings.filterwarnings(\"ignore\")\n",
    "\n",
    "# Pre-requisites\n",
    "import pandas as pd\n",
    "import numpy as np\n",
    "import matplotlib\n",
    "import matplotlib.pyplot as plt\n",
    "import seaborn as sns\n",
    "\n",
    "# Store the classifier models to save time\n",
    "import joblib\n",
    "\n",
    "# Preprocessing\n",
    "from sklearn.preprocessing import LabelEncoder\n",
    "from sklearn.model_selection import train_test_split\n",
    "\n",
    "# Classifiers from scikit-learn\n",
    "from sklearn.linear_model import LogisticRegression\n",
    "from sklearn.tree import DecisionTreeClassifier\n",
    "from sklearn.ensemble import GradientBoostingClassifier\n",
    "from sklearn.ensemble import RandomForestClassifier\n",
    "from sklearn.ensemble import ExtraTreesClassifier\n",
    "\n",
    "# Performance metrics\n",
    "from sklearn.metrics import accuracy_score\n",
    "from sklearn.metrics import f1_score\n",
    "from sklearn.metrics import precision_score\n",
    "from sklearn.metrics import recall_score\n",
    "from sklearn.metrics import classification_report\n",
    "from sklearn.metrics import confusion_matrix\n",
    "from sklearn.metrics import plot_confusion_matrix\n",
    "\n",
    "from sklearn.metrics import roc_curve\n",
    "from sklearn.metrics import roc_auc_score\n",
    "\n",
    "# Classifiers from scikit-learn\n",
    "from sklearn.linear_model import LinearRegression\n",
    "from sklearn.tree import DecisionTreeRegressor\n",
    "from sklearn.ensemble import RandomForestRegressor\n",
    "from sklearn.ensemble import ExtraTreesRegressor\n",
    "from sklearn.ensemble import GradientBoostingRegressor\n",
    "\n",
    "# Performance metrics\n",
    "from sklearn.metrics import mean_squared_error\n",
    "from sklearn.metrics import mean_absolute_error\n",
    "from sklearn.metrics import r2_score\n",
    "\n",
    "# Imbalanced dataset helpers\n",
    "from imblearn.over_sampling import SMOTE"
   ]
  },
  {
   "cell_type": "markdown",
   "id": "c925f519",
   "metadata": {},
   "source": [
    "## Preprocessing"
   ]
  },
  {
   "cell_type": "markdown",
   "id": "4ab87131",
   "metadata": {},
   "source": [
    "### Dropping all columns except ArrDel15 and ArrDelayMinutes\n",
    "- Dropping redundant columns and those that cause data leaks\n",
    "- Encoding Origin and Dest"
   ]
  },
  {
   "cell_type": "code",
   "execution_count": 2,
   "id": "3c5b8423",
   "metadata": {},
   "outputs": [],
   "source": [
    "# df = pd.read_csv(\"Data/flight_and_weather.csv\", index_col=0)\n",
    "# print(f\"\\nBefore Encoding Shape: {df.shape}\", end=\"\\n\\n\")\n",
    "# # print(df.info())\n",
    "# # Dropping columns with redundant or duplicate data\n",
    "# df.drop(columns=[\"FlightDate\",\n",
    "#                  \"OriginAirportID\",\n",
    "#                  \"DestAirportID\",\n",
    "#                  \"CRSArrTime\",\n",
    "#                  \"ArrTime\",\n",
    "#                  \"Time_new\",\n",
    "#                  \"date\",\n",
    "#                  \"airport\"],\n",
    "#         inplace=True)\n",
    "# # print(df.info())\n",
    "# labelEncoder = LabelEncoder()\n",
    "# df[\"Origin\"] = labelEncoder.fit_transform(df[\"Origin\"])\n",
    "# df[\"Dest\"] = labelEncoder.fit_transform(df[\"Dest\"])\n",
    "# print(f\"\\nAfter Encoding Shape: {df.shape}\", end=\"\\n\\n\")\n",
    "# # df[[\"Origin\", \"Dest\"]]\n",
    "# # df.to_csv(\"Data/flight_and_weather_encoded_pipe_line.csv\");"
   ]
  },
  {
   "cell_type": "code",
   "execution_count": 3,
   "id": "de7bfdfb",
   "metadata": {},
   "outputs": [
    {
     "name": "stdout",
     "output_type": "stream",
     "text": [
      "\n",
      "Shape: (1851436, 25)\n",
      "\n",
      "<class 'pandas.core.frame.DataFrame'>\n",
      "Int64Index: 1851436 entries, 0 to 1851435\n",
      "Data columns (total 25 columns):\n",
      " #   Column           Dtype  \n",
      "---  ------           -----  \n",
      " 0   Year             int64  \n",
      " 1   Quarter          int64  \n",
      " 2   Month            int64  \n",
      " 3   DayofMonth       int64  \n",
      " 4   Origin           int64  \n",
      " 5   Dest             int64  \n",
      " 6   CRSDepTime       int64  \n",
      " 7   DepTime          float64\n",
      " 8   DepDelayMinutes  float64\n",
      " 9   DepDel15         float64\n",
      " 10  ArrDelayMinutes  float64\n",
      " 11  ArrDel15         float64\n",
      " 12  windspeedKmph    int64  \n",
      " 13  winddirDegree    int64  \n",
      " 14  weatherCode      int64  \n",
      " 15  precipMM         float64\n",
      " 16  visibility       int64  \n",
      " 17  pressure         int64  \n",
      " 18  cloudcover       int64  \n",
      " 19  DewPointF        int64  \n",
      " 20  WindGustKmph     int64  \n",
      " 21  tempF            int64  \n",
      " 22  WindChillF       int64  \n",
      " 23  humidity         int64  \n",
      " 24  time             int64  \n",
      "dtypes: float64(6), int64(19)\n",
      "memory usage: 367.3 MB\n",
      "None\n"
     ]
    }
   ],
   "source": [
    "df = pd.read_csv(\"Data/flight_and_weather_encoded_pipe_line.csv\", index_col=0);\n",
    "print(f\"\\nShape: {df.shape}\", end=\"\\n\\n\")\n",
    "print(df.info())"
   ]
  },
  {
   "cell_type": "markdown",
   "id": "1db15bb9",
   "metadata": {},
   "source": [
    "### Splitting the Dataset for Training & Testing"
   ]
  },
  {
   "cell_type": "code",
   "execution_count": 4,
   "id": "8b4e04b4",
   "metadata": {},
   "outputs": [
    {
     "name": "stdout",
     "output_type": "stream",
     "text": [
      "\n",
      "Dataset shape: (1851436, 25)\n",
      "features_train shape: (1481148, 23) | features_test shape: (370288, 23)\n",
      "labels_train shape: (1481148, 2) | labels_test shape: (370288, 2)\n"
     ]
    }
   ],
   "source": [
    "labels = df[[\"ArrDel15\", \"ArrDelayMinutes\"]]\n",
    "features = df.drop(columns = ['ArrDel15', 'ArrDelayMinutes'])\n",
    "# print(len(features.columns))\n",
    "# print(len(labels.columns))\n",
    "# Number of samples/observations/rows is greater than 100,000\n",
    "print(f\"\\nDataset shape: {df.shape}\")\n",
    "features_train, features_test, labels_train, labels_test = train_test_split(features, labels, test_size=0.20, random_state=42)\n",
    "print(f\"features_train shape: {features_train.shape} | features_test shape: {features_test.shape}\")\n",
    "print(f\"labels_train shape: {labels_train.shape} | labels_test shape: {labels_test.shape}\")\n",
    "# print(f\"{features_train.shape[1]} Features: {features_train.columns.to_list()}\")\n",
    "del features\n",
    "del labels"
   ]
  },
  {
   "cell_type": "markdown",
   "id": "c07cbb8f",
   "metadata": {},
   "source": [
    "### Filtering Data for Classification Training & Testing"
   ]
  },
  {
   "cell_type": "code",
   "execution_count": 5,
   "id": "6579a96d",
   "metadata": {},
   "outputs": [
    {
     "name": "stdout",
     "output_type": "stream",
     "text": [
      "classification_features_train shape: (1481148, 23) | classification_features_test shape: (370288, 23)\n",
      "classification_labels_train shape: (1481148,) | classification_labels_test shape: (370288,)\n"
     ]
    }
   ],
   "source": [
    "classification_features_train, classification_features_test = features_train, features_test\n",
    "classification_labels_train, classification_labels_test = labels_train[\"ArrDel15\"], labels_test[\"ArrDel15\"]\n",
    "print(f\"classification_features_train shape: {classification_features_train.shape} | classification_features_test shape: {classification_features_test.shape}\")\n",
    "print(f\"classification_labels_train shape: {classification_labels_train.shape} | classification_labels_test shape: {classification_labels_test.shape}\")"
   ]
  },
  {
   "cell_type": "markdown",
   "id": "5457f5dd",
   "metadata": {},
   "source": [
    "## Handling Imbalance for Classification using SMOTE"
   ]
  },
  {
   "cell_type": "markdown",
   "id": "f2479cf4",
   "metadata": {},
   "source": [
    "### Training Data Without Handling Imbalance"
   ]
  },
  {
   "cell_type": "code",
   "execution_count": 6,
   "id": "f99b5916",
   "metadata": {},
   "outputs": [
    {
     "data": {
      "image/png": "[encoded data removed]",
      "text/plain": [
       "<Figure size 432x288 with 1 Axes>"
      ]
     },
     "metadata": {
      "needs_background": "light"
     },
     "output_type": "display_data"
    },
    {
     "name": "stdout",
     "output_type": "stream",
     "text": [
      "ArrDel15\n",
      "0.0         1170643\n",
      "1.0          310505\n",
      "dtype: int64\n"
     ]
    }
   ],
   "source": [
    "# Plotting the percentage of observations that fall under each class\n",
    "ax = pd.DataFrame(classification_labels_train).value_counts().sort_values().plot(kind=\"barh\", color=[\"r\", \"g\"])\n",
    "ax.set_axisbelow(True)\n",
    "ax.grid()\n",
    "totals= []\n",
    "for i in ax.patches:\n",
    "    totals.append(i.get_width())\n",
    "total = sum(totals)\n",
    "for i in ax.patches:\n",
    "     ax.text(i.get_width()+.3, i.get_y()+.20, \n",
    "     str(round((i.get_width()/total)*100, 2))+'%', \n",
    "     fontsize=10, color='black')\n",
    "plt.title(\"ArrDel15\", fontsize=20)\n",
    "plt.xlabel(\"Count\", fontsize=14)\n",
    "plt.ylabel(\"Class\", fontsize=14)\n",
    "plt.show()\n",
    "print(pd.DataFrame(classification_labels_train).value_counts())\n",
    "fig = ax.get_figure()\n",
    "fig.savefig(\"Img/11_01_Pipe_Line_Training_ArrDel15_Class_Imbalance.png\")"
   ]
  },
  {
   "cell_type": "markdown",
   "id": "078a58f4",
   "metadata": {},
   "source": [
    "### SMOTE"
   ]
  },
  {
   "cell_type": "code",
   "execution_count": 7,
   "id": "977b91e8",
   "metadata": {},
   "outputs": [],
   "source": [
    "# smote = SMOTE(n_jobs=-1, random_state=42)\n",
    "# classification_features_train, classification_labels_train = smote.fit_resample(classification_features_train, classification_labels_train)"
   ]
  },
  {
   "cell_type": "code",
   "execution_count": 8,
   "id": "966831ee",
   "metadata": {},
   "outputs": [],
   "source": [
    "# SMOTE takes too long - approx 47 minutes\n",
    "# classification_features_train.to_csv(\"./Data/pipe_line_smote_features_train.csv\")\n",
    "# pd.DataFrame(classification_labels_train).to_csv(\"./Data/pipe_line_smote_labels_train.csv\")\n",
    "classification_features_train = pd.read_csv(\"./Data/pipe_line_smote_features_train.csv\", index_col=0)\n",
    "classification_labels_train = pd.read_csv(\"./Data/pipe_line_smote_labels_train.csv\", index_col=0)\n",
    "# print(classification_labels_train.shape)\n",
    "# print(classification_labels_train)"
   ]
  },
  {
   "cell_type": "markdown",
   "id": "7e37c388",
   "metadata": {},
   "source": [
    "### Training Data After Handling Imbalance with SMOTE"
   ]
  },
  {
   "cell_type": "code",
   "execution_count": 9,
   "id": "8b179dc7",
   "metadata": {},
   "outputs": [
    {
     "data": {
      "image/png": "[encoded data removed]",
      "text/plain": [
       "<Figure size 432x288 with 1 Axes>"
      ]
     },
     "metadata": {
      "needs_background": "light"
     },
     "output_type": "display_data"
    },
    {
     "name": "stdout",
     "output_type": "stream",
     "text": [
      "ArrDel15\n",
      "0.0         1170643\n",
      "1.0         1170643\n",
      "dtype: int64\n"
     ]
    }
   ],
   "source": [
    "# Plotting the percentage of observations that fall under each class\n",
    "ax = pd.DataFrame(classification_labels_train).value_counts().sort_values().plot(kind=\"barh\", color=[\"r\", \"g\"])\n",
    "ax.set_axisbelow(True)\n",
    "ax.grid()\n",
    "totals= []\n",
    "for i in ax.patches:\n",
    "    totals.append(i.get_width())\n",
    "total = sum(totals)\n",
    "for i in ax.patches:\n",
    "     ax.text(i.get_width()+.3, i.get_y()+.20, \n",
    "     str(round((i.get_width()/total)*100, 2))+'%', \n",
    "     fontsize=10, color='black')\n",
    "plt.title(\"ArrDel15\", fontsize=20)\n",
    "plt.xlabel(\"Count\", fontsize=14)\n",
    "plt.ylabel(\"Class\", fontsize=14)\n",
    "plt.show()\n",
    "print(pd.DataFrame(classification_labels_train).value_counts())\n",
    "fig = ax.get_figure()\n",
    "fig.savefig(\"Img/11_02_Pipe_Line_SMOTE_Training_ArrDel15_Class.png\")"
   ]
  },
  {
   "cell_type": "markdown",
   "id": "60e70911",
   "metadata": {},
   "source": [
    "## XGBoost Classification"
   ]
  },
  {
   "cell_type": "code",
   "execution_count": 10,
   "id": "3d7d6cbc",
   "metadata": {},
   "outputs": [],
   "source": [
    "# print(classification_labels_train)\n",
    "classification_labels_train = classification_labels_train[\"ArrDel15\"].values "
   ]
  },
  {
   "cell_type": "code",
   "execution_count": 11,
   "id": "c208b0e9",
   "metadata": {},
   "outputs": [
    {
     "name": "stdout",
     "output_type": "stream",
     "text": [
      "              precision    recall  f1-score   support\n",
      "\n",
      "         0.0       0.93      0.95      0.94    292735\n",
      "         1.0       0.80      0.75      0.77     77553\n",
      "\n",
      "    accuracy                           0.91    370288\n",
      "   macro avg       0.87      0.85      0.86    370288\n",
      "weighted avg       0.91      0.91      0.91    370288\n",
      "\n",
      "<sklearn.metrics._plot.confusion_matrix.ConfusionMatrixDisplay object at 0x7f6ab4c90d00>\n"
     ]
    },
    {
     "data": {
      "image/png": "[encoded data removed]",
      "text/plain": [
       "<Figure size 432x288 with 2 Axes>"
      ]
     },
     "metadata": {
      "needs_background": "light"
     },
     "output_type": "display_data"
    }
   ],
   "source": [
    "# model = GradientBoostingClassifier()\n",
    "# model.fit(classification_features_train, classification_labels_train)\n",
    "# joblib.dump(model, \"./Pipelined/GradientBoostingClassifier.joblib\")\n",
    "model = joblib.load(\"./Pipelined/GradientBoostingClassifier.joblib\")\n",
    "model_pred = model.predict(classification_features_test)\n",
    "# print(confusion_matrix(classification_labels_test, model_pred))\n",
    "print(classification_report(classification_labels_test, model_pred))\n",
    "conf_mat_plot = plot_confusion_matrix(model, classification_features_test, classification_labels_test)\n",
    "plt.title(\"Gradient Boosting Classifier (XGBoost)\")\n",
    "print(conf_mat_plot)\n",
    "plt.savefig(\"Img/11_03_Pipe_Lined_GBC_Confusion_Matrix\")\n",
    "# del model\n",
    "# del model_pred"
   ]
  },
  {
   "cell_type": "markdown",
   "id": "8b3b9cfe",
   "metadata": {},
   "source": [
    "## Random Forest Regression"
   ]
  },
  {
   "cell_type": "markdown",
   "id": "a7eb5262",
   "metadata": {},
   "source": [
    "### Filtering training data for regression "
   ]
  },
  {
   "cell_type": "code",
   "execution_count": 12,
   "id": "341d1038",
   "metadata": {},
   "outputs": [
    {
     "name": "stdout",
     "output_type": "stream",
     "text": [
      "regression_features_train shape: (310505, 23) | regression_labels_train shape: (310505,)\n"
     ]
    }
   ],
   "source": [
    "# append ArrDel15 to the features\n",
    "regression_features_train = features_train.join(labels_train[\"ArrDel15\"])\n",
    "#  filter only those flights that are delayed\n",
    "regression_features_train = regression_features_train.loc[regression_features_train[\"ArrDel15\"] == 1.0]\n",
    "regression_features_train.drop(\"ArrDel15\", axis=1, inplace=True)\n",
    "regression_labels_train = labels_train.loc[labels_train[\"ArrDel15\"] == 1.0]\n",
    "regression_labels_train.drop(\"ArrDel15\", axis=1, inplace=True)\n",
    "regression_labels_train = np.asarray(regression_labels_train[\"ArrDelayMinutes\"].values)\n",
    "print(f\"regression_features_train shape: {regression_features_train.shape} | regression_labels_train shape: {regression_labels_train.shape}\")\n",
    "# del features_train\n",
    "# del features_test\n",
    "# del labels_train\n",
    "# del labels_test"
   ]
  },
  {
   "cell_type": "markdown",
   "id": "c0b01887",
   "metadata": {},
   "source": [
    "### Filtering testing data for regression "
   ]
  },
  {
   "cell_type": "code",
   "execution_count": 13,
   "id": "2195e1f9",
   "metadata": {},
   "outputs": [],
   "source": [
    "regression_features_test = features_test\n",
    "regression_features_test[\"Predicted_ArrDel15\"] = model_pred\n",
    "regression_features_test = regression_features_test.loc[:][regression_features_test[\"Predicted_ArrDel15\"] == 1.0]\n",
    "regression_features_test = regression_features_test.drop([\"Predicted_ArrDel15\"], axis=1)"
   ]
  },
  {
   "cell_type": "code",
   "execution_count": 14,
   "id": "448a3217",
   "metadata": {},
   "outputs": [
    {
     "name": "stdout",
     "output_type": "stream",
     "text": [
      "regression_features_test shape: (72699, 23) | regression_labels_test shape: (72699,)\n"
     ]
    }
   ],
   "source": [
    "regression_labels_test = pd.DataFrame(labels_test[\"ArrDelayMinutes\"])\n",
    "regression_labels_test[\"Predicted_ArrDel15\"] = model_pred\n",
    "regression_labels_test = regression_labels_test.loc[:][regression_labels_test[\"Predicted_ArrDel15\"] == 1.0]\n",
    "regression_labels_test = regression_labels_test.drop([\"Predicted_ArrDel15\"], axis=1)\n",
    "regression_labels_test = np.asarray(regression_labels_test[\"ArrDelayMinutes\"])\n",
    "print(f\"regression_features_test shape: {regression_features_test.shape} | regression_labels_test shape: {regression_labels_test.shape}\")"
   ]
  },
  {
   "cell_type": "code",
   "execution_count": 15,
   "id": "7e78ac57",
   "metadata": {},
   "outputs": [
    {
     "data": {
      "text/plain": [
       "((310505, 23), (72699, 23), (310505,), (72699,))"
      ]
     },
     "execution_count": 15,
     "metadata": {},
     "output_type": "execute_result"
    }
   ],
   "source": [
    "regression_features_train.shape, regression_features_test.shape, regression_labels_train.shape, regression_labels_test.shape"
   ]
  },
  {
   "cell_type": "markdown",
   "id": "da2b6f51",
   "metadata": {},
   "source": [
    "### Random Forest Regressor"
   ]
  },
  {
   "cell_type": "code",
   "execution_count": 16,
   "id": "ef510ae2",
   "metadata": {},
   "outputs": [],
   "source": [
    "# Helper function for regression report - summary metrics\n",
    "perf_df = pd.DataFrame(columns=[\"Regressors\", \"MSE\", \"RMSE\", \"MAE\", \"R2\"])\n",
    "def print_metrics(labels_test, model_pred, regressor_name, perf_df):\n",
    "    \n",
    "    mse = mean_squared_error(labels_test, model_pred)\n",
    "    rmse = np.sqrt(mse)\n",
    "    mae = mean_absolute_error(labels_test, model_pred)\n",
    "    r2 = r2_score(labels_test, model_pred)\n",
    "    \n",
    "    print(f\"MSE      : {mse}\", end=\"\\n\\n\")\n",
    "    print(f\"RMSE     : {rmse}\", end=\"\\n\\n\")\n",
    "    print(f\"MAE      : {mae}\", end=\"\\n\\n\")\n",
    "    print(f\"R2 Score : {r2}\", end=\"\\n\\n\")\n",
    "    \n",
    "    perf_df = perf_df.append({\"Regressors\": regressor_name,\n",
    "                                        \"MSE\": mse, \n",
    "                                        \"RMSE\": rmse,\n",
    "                                        \"MAE\": mae,\n",
    "                                        \"R2\": r2}, ignore_index=True)\n",
    "    return perf_df"
   ]
  },
  {
   "cell_type": "code",
   "execution_count": 17,
   "id": "f5da021f",
   "metadata": {},
   "outputs": [
    {
     "name": "stdout",
     "output_type": "stream",
     "text": [
      "MSE      : 363.30866346628284\n",
      "\n",
      "RMSE     : 19.060657477282437\n",
      "\n",
      "MAE      : 14.61738173430695\n",
      "\n",
      "R2 Score : 0.9367409298426798\n",
      "\n"
     ]
    }
   ],
   "source": [
    "# model = RandomForestRegressor(n_jobs=-1)\n",
    "# model.fit(regression_features_train, regression_labels_train)\n",
    "# joblib.dump(model, \"./Pipelined/RandomForestRegressor.joblib\")\n",
    "model = joblib.load(\"./Pipelined/RandomForestRegressor.joblib\")\n",
    "model_pred = model.predict(regression_features_test)\n",
    "perf_df = print_metrics(regression_labels_test, model_pred, \"RandomForestRegressor\", perf_df)\n",
    "del model\n",
    "del model_pred"
   ]
  },
  {
   "cell_type": "code",
   "execution_count": null,
   "id": "abc2d988",
   "metadata": {},
   "outputs": [],
   "source": []
  }
 ],
 "metadata": {
  "kernelspec": {
   "display_name": "Python 3",
   "language": "python",
   "name": "python3"
  },
  "language_info": {
   "codemirror_mode": {
    "name": "ipython",
    "version": 3
   },
   "file_extension": ".py",
   "mimetype": "text/x-python",
   "name": "python",
   "nbconvert_exporter": "python",
   "pygments_lexer": "ipython3",
   "version": "3.8.8"
  }
 },
 "nbformat": 4,
 "nbformat_minor": 5
}
